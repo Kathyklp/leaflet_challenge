{
 "cells": [
  {
   "cell_type": "code",
   "execution_count": 50,
   "id": "05e132d0",
   "metadata": {},
   "outputs": [],
   "source": [
    "import pandas as pd\n",
    "import numpy as np\n",
    "import sklearn as sk\n",
    "import matplotlib.pyplot as plt\n",
    "%matplotlib inline\n",
    "import scipy as sc\n",
    "import json\n",
    "from pprint import pprint\n",
    "import random\n",
    "from splinter import Browser"
   ]
  },
  {
   "cell_type": "code",
   "execution_count": 51,
   "id": "64b029f0",
   "metadata": {
    "scrolled": true
   },
   "outputs": [
    {
     "data": {
      "text/html": [
       "<div>\n",
       "<style scoped>\n",
       "    .dataframe tbody tr th:only-of-type {\n",
       "        vertical-align: middle;\n",
       "    }\n",
       "\n",
       "    .dataframe tbody tr th {\n",
       "        vertical-align: top;\n",
       "    }\n",
       "\n",
       "    .dataframe thead th {\n",
       "        text-align: right;\n",
       "    }\n",
       "</style>\n",
       "<table border=\"1\" class=\"dataframe\">\n",
       "  <thead>\n",
       "    <tr style=\"text-align: right;\">\n",
       "      <th></th>\n",
       "      <th>names</th>\n",
       "      <th>metadata</th>\n",
       "      <th>samples</th>\n",
       "    </tr>\n",
       "  </thead>\n",
       "  <tbody>\n",
       "    <tr>\n",
       "      <th>0</th>\n",
       "      <td>940</td>\n",
       "      <td>{'id': 940, 'ethnicity': 'Caucasian', 'gender'...</td>\n",
       "      <td>{'id': '940', 'otu_ids': [1167, 2859, 482, 226...</td>\n",
       "    </tr>\n",
       "    <tr>\n",
       "      <th>1</th>\n",
       "      <td>941</td>\n",
       "      <td>{'id': 941, 'ethnicity': 'Caucasian/Midleaster...</td>\n",
       "      <td>{'id': '941', 'otu_ids': [2722, 944, 2419, 253...</td>\n",
       "    </tr>\n",
       "    <tr>\n",
       "      <th>2</th>\n",
       "      <td>943</td>\n",
       "      <td>{'id': 943, 'ethnicity': 'Caucasian', 'gender'...</td>\n",
       "      <td>{'id': '943', 'otu_ids': [1795], 'sample_value...</td>\n",
       "    </tr>\n",
       "    <tr>\n",
       "      <th>3</th>\n",
       "      <td>944</td>\n",
       "      <td>{'id': 944, 'ethnicity': 'European', 'gender':...</td>\n",
       "      <td>{'id': '944', 'otu_ids': [922, 3555, 943, 1013...</td>\n",
       "    </tr>\n",
       "    <tr>\n",
       "      <th>4</th>\n",
       "      <td>945</td>\n",
       "      <td>{'id': 945, 'ethnicity': 'Caucasian', 'gender'...</td>\n",
       "      <td>{'id': '945', 'otu_ids': [944, 1795, 922, 2419...</td>\n",
       "    </tr>\n",
       "  </tbody>\n",
       "</table>\n",
       "</div>"
      ],
      "text/plain": [
       "   names                                           metadata  \\\n",
       "0    940  {'id': 940, 'ethnicity': 'Caucasian', 'gender'...   \n",
       "1    941  {'id': 941, 'ethnicity': 'Caucasian/Midleaster...   \n",
       "2    943  {'id': 943, 'ethnicity': 'Caucasian', 'gender'...   \n",
       "3    944  {'id': 944, 'ethnicity': 'European', 'gender':...   \n",
       "4    945  {'id': 945, 'ethnicity': 'Caucasian', 'gender'...   \n",
       "\n",
       "                                             samples  \n",
       "0  {'id': '940', 'otu_ids': [1167, 2859, 482, 226...  \n",
       "1  {'id': '941', 'otu_ids': [2722, 944, 2419, 253...  \n",
       "2  {'id': '943', 'otu_ids': [1795], 'sample_value...  \n",
       "3  {'id': '944', 'otu_ids': [922, 3555, 943, 1013...  \n",
       "4  {'id': '945', 'otu_ids': [944, 1795, 922, 2419...  "
      ]
     },
     "execution_count": 51,
     "metadata": {},
     "output_type": "execute_result"
    }
   ],
   "source": [
    "# Read the data into a Pandas DataFrame\n",
    "sampledb = pd.read_json('https://2u-data-curriculum-team.s3.amazonaws.com/dataviz-classroom/v1.1/14-Interactive-Web-Visualizations/02-Homework/samples.json')\n",
    "sampledb.head()\n"
   ]
  },
  {
   "cell_type": "code",
   "execution_count": 52,
   "id": "ece095a4",
   "metadata": {},
   "outputs": [
    {
     "data": {
      "text/plain": [
       "0      {'id': '940', 'otu_ids': [1167, 2859, 482, 226...\n",
       "1      {'id': '941', 'otu_ids': [2722, 944, 2419, 253...\n",
       "2      {'id': '943', 'otu_ids': [1795], 'sample_value...\n",
       "3      {'id': '944', 'otu_ids': [922, 3555, 943, 1013...\n",
       "4      {'id': '945', 'otu_ids': [944, 1795, 922, 2419...\n",
       "                             ...                        \n",
       "148    {'id': '1574', 'otu_ids': [482, 909, 2419, 944...\n",
       "149    {'id': '1576', 'otu_ids': [1929, 1770, 1926, 1...\n",
       "150    {'id': '1577', 'otu_ids': [922, 1795, 151, 318...\n",
       "151    {'id': '1581', 'otu_ids': [1795, 3312, 1399, 3...\n",
       "152    {'id': '1601', 'otu_ids': [1929, 3030, 1795, 8...\n",
       "Name: samples, Length: 153, dtype: object"
      ]
     },
     "execution_count": 52,
     "metadata": {},
     "output_type": "execute_result"
    }
   ],
   "source": [
    "column_data = sampledb['samples']\n",
    "column_data\n"
   ]
  },
  {
   "cell_type": "code",
   "execution_count": 53,
   "id": "4aaa5656",
   "metadata": {
    "scrolled": true
   },
   "outputs": [
    {
     "name": "stdout",
     "output_type": "stream",
     "text": [
      "[[1167, 2859, 482, 2264, 41, 1189, 352, 189, 2318, 1977, 3450, 874, 1959, 2191, 1950, 2077, 2275, 944, 2184, 2244, 2024, 2419, 2811, 165, 2782, 2247, 2011, 2396, 830, 2964, 1795, 2722, 307, 2178, 2908, 1193, 2167, 1208, 2039, 1274, 2739, 2737, 1314, 1962, 2186, 2335, 2936, 907, 833, 2483, 2475, 2491, 2291, 159, 2571, 2350, 2342, 2546, 725, 170, 1505, 513, 259, 1169, 258, 1232, 1497, 1498, 1503, 412, 2235, 1960, 1968, 121, 2065, 340, 2110, 2188, 357, 342], [922, 943, 2539, 728, 982, 989, 883, 2722, 2419, 939, 719, 2461, 818, 606, 2389, 1870, 944, 2011, 2859, 917, 830, 2184, 2167, 2264, 482, 2308, 789, 2266, 737, 2754, 2077, 1314, 963, 3368, 2782, 2949, 352, 1898, 2704, 2394, 2219, 1040, 763, 3507], [728, 2419, 1870, 2539, 2859, 922, 944, 1167, 3312, 2244, 3288, 482, 3643, 3120, 41, 943, 2264, 1795, 1169, 3541, 165, 3407, 2811, 2722, 2964, 2782, 1950, 3615, 719, 3378, 830, 2908, 3284, 1977, 854, 2275, 2190, 3450, 2011, 2308, 833, 391, 841, 3406, 3404, 939, 314, 352, 3119, 121, 1314, 1208, 978, 923, 2651], [1870, 2539, 2389, 2419, 922, 728, 2859, 2244, 909, 944, 2558, 2275, 2461, 2314, 2782, 482, 2722, 943, 2651, 1882, 2308, 2307, 2404, 883, 2569, 2648, 2571, 2908, 2438, 2378, 907, 2219, 1853, 841, 1960, 2742, 2524, 2602, 2445, 2372, 719, 972, 939, 2431, 2394, 2567, 2647, 113, 814, 2327, 2645, 2901, 2769, 2800, 2620, 2855, 2827, 2949, 2710, 29, 2562, 2551, 134, 283, 658, 737, 963, 1361, 1795, 1850, 1868, 1929, 1971, 2295, 2297, 2364, 2390, 2413, 2494, 2500, 2530, 2964], [1795, 944, 922, 2419, 2539, 909, 1453, 2859, 3476, 2011, 1361, 963, 1167, 2943, 2722, 1189, 2275, 2318, 2651, 482, 1950, 1169, 2782, 3360, 883, 1870, 2461, 1335, 1839, 2551, 3030, 943, 3184, 728, 352, 1724, 2389, 3544, 1014, 977, 3581, 3537, 3568, 3450, 1878, 3352, 1600, 1352, 1200, 1065, 841, 3613], [1167, 1208, 3643, 1950, 3660, 352, 2318, 408, 1977, 1189, 2859, 781, 854, 3007, 2264, 1314, 874, 2722, 3450, 909, 2184, 482, 2539, 2419, 314, 1795, 2782, 165, 2964, 1193, 2651, 1259, 161, 180, 1169, 3636, 3626, 2985, 944, 2404, 2396, 190, 1083, 2167, 2158, 2038, 2025, 771, 146, 1256, 833, 1178, 96], [2389, 922, 2539, 3476, 943, 2266, 2419, 2722, 2461, 2859, 1795, 719, 818, 2308, 606, 763, 2565, 2364, 2076, 1453, 2621, 2421, 47, 2317, 2286, 131, 917, 789, 737, 460, 3492, 2375, 2090, 1016, 963, 2557, 2602, 2648, 659], [1795, 2011, 482, 2859, 1929, 728, 2722, 1167, 2539, 1189, 2782, 2389, 944, 1724, 909, 1876, 1870, 3643, 1193, 1977, 2964, 3352, 3476, 1926, 1927, 1208, 1200, 922, 982, 3450, 2280, 1314, 41, 2908, 3134, 4, 2754, 1768, 1458, 1333, 516, 3660], [2011, 1167, 482, 1314, 909, 3450, 2859, 1189, 1200, 2985, 2539, 2964, 1114, 2419, 1193, 1188, 3643, 1333, 2722, 2782, 1977, 1208, 2908, 1202, 1985, 2280, 2396, 2754, 854, 830, 2157, 1961, 41, 3660, 1207, 582, 2358, 2058, 2273, 2167, 3454, 3344, 345, 352, 944, 1164, 2275, 2185, 2340, 1795, 2030, 1981, 59, 2184, 2804, 171, 180, 3439, 1186, 3002, 2994, 320, 408, 2856, 1998, 1173, 1176, 2750, 1083, 1160, 1162, 2032, 1224, 2318, 2308, 1165, 2088, 2107, 1244], [2859, 909, 922, 2266, 1795, 2419, 989, 963, 944, 943], [1795, 944, 922, 728, 2722, 3396, 963, 3134, 939, 841, 3316, 1724, 763, 2011, 3472, 3184, 3534, 2539, 3523, 3243, 3163, 556, 2419, 1929, 715, 1760, 1580, 1399, 1014, 930, 796, 1768], [1795, 944, 2419, 3485, 1929, 728, 2722, 922, 1724, 3389, 1770, 1453, 1876, 1600, 3323, 3134, 3184, 1353, 3521, 1926, 1239, 2859, 1014, 963, 940, 2318, 626, 3379, 2544, 3396, 3609, 1899, 1728, 1925, 3393, 3581, 3555, 3541, 3527, 808, 3486, 811, 919, 1015, 930, 1908, 1064, 1685, 3146, 1760, 1801, 1824, 723, 1898], [922, 1795, 2419, 2461, 1929, 943, 1600, 1768, 889, 912, 932, 1602, 1728, 2308, 3170], [970, 1795, 830, 944, 3389, 963, 736, 1929, 3184, 943, 922, 989, 1840, 3296, 1453, 3211, 1349, 1377, 1903, 3472, 3550, 958, 1043, 1441, 3476, 939, 3213, 1448, 3485, 811, 3378, 3312, 3282, 3265, 3197, 1355, 3134, 3124, 2961, 2722, 2419, 1390, 1910, 1430, 1898, 732, 319], [1795], [922, 1795, 151, 3184, 1770, 1929, 3134, 1399, 3064, 1108, 3599, 3514, 3472, 3410, 1387, 659, 944, 1744, 531, 3189, 3340, 3368, 3405, 1014, 3541, 1739, 3607]]\n"
     ]
    }
   ],
   "source": [
    "# loop by row to randomly select otu_ids\n",
    "\n",
    "otu_id_list = []\n",
    "\n",
    "# Loop through rows to randomly select out_ids\n",
    "for i in range(0, 154, 10):\n",
    "\n",
    "    row = column_data.iloc[i]\n",
    "    otu_ids = row['otu_ids']\n",
    "    otu_id_list.append(otu_ids)  \n",
    "\n",
    "\n",
    "# Print or use the otu_ids\n",
    "print(otu_id_list)"
   ]
  },
  {
   "cell_type": "code",
   "execution_count": 54,
   "id": "9719487c",
   "metadata": {
    "scrolled": true
   },
   "outputs": [
    {
     "data": {
      "image/png": "[encoded data removed]",
      "text/plain": [
       "<Figure size 640x480 with 1 Axes>"
      ]
     },
     "metadata": {},
     "output_type": "display_data"
    }
   ],
   "source": [
    "# Create a bar graph\n",
    "\n",
    "otu_id_list = [1167, 2859, 482, 2264, 41, 1189, 352, 189, 2318, 1977]\n",
    "\n",
    "plt.bar(range(len(otu_id_list)), otu_id_list, align='center')\n",
    "\n",
    "# Add labels and title\n",
    "plt.xlabel('Index')\n",
    "plt.ylabel('OTU IDs')\n",
    "plt.title('Randomly Selected OTU IDs Bar Graph')\n",
    "\n",
    "# Show the plot\n",
    "plt.show()      \n",
    "    "
   ]
  },
  {
   "cell_type": "code",
   "execution_count": 55,
   "id": "29842b2a",
   "metadata": {
    "scrolled": false
   },
   "outputs": [],
   "source": [
    "# data_dict = sampledb['samples']\n",
    "# otu_ids = data_dict['otu_ids']\n",
    "# print(otu_ids)"
   ]
  },
  {
   "cell_type": "code",
   "execution_count": 57,
   "id": "450813ca",
   "metadata": {
    "scrolled": false
   },
   "outputs": [],
   "source": [
    "# browser.quit()"
   ]
  },
  {
   "cell_type": "code",
   "execution_count": null,
   "id": "98d3524d",
   "metadata": {},
   "outputs": [],
   "source": []
  },
  {
   "cell_type": "code",
   "execution_count": null,
   "id": "f1cc7b74",
   "metadata": {},
   "outputs": [],
   "source": []
  }
 ],
 "metadata": {
  "kernelspec": {
   "display_name": "Python 3 (ipykernel)",
   "language": "python",
   "name": "python3"
  },
  "language_info": {
   "codemirror_mode": {
    "name": "ipython",
    "version": 3
   },
   "file_extension": ".py",
   "mimetype": "text/x-python",
   "name": "python",
   "nbconvert_exporter": "python",
   "pygments_lexer": "ipython3",
   "version": "3.10.9"
  }
 },
 "nbformat": 4,
 "nbformat_minor": 5
}
